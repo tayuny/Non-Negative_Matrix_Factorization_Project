{
 "cells": [
  {
   "cell_type": "code",
   "execution_count": 1,
   "metadata": {},
   "outputs": [],
   "source": [
    "import json\n",
    "import pandas as pd\n",
    "import numpy as np\n",
    "import gc\n",
    "import datetime\n",
    "import re\n",
    "import seaborn as sns\n",
    "import matplotlib.pyplot as plt"
   ]
  },
  {
   "cell_type": "markdown",
   "metadata": {},
   "source": [
    "#### functions for loading data"
   ]
  },
  {
   "cell_type": "code",
   "execution_count": 2,
   "metadata": {},
   "outputs": [],
   "source": [
    "def get_business_data(file_name, state=\"AZ\"):\n",
    "    '''\n",
    "    The function is designed to extract business data from the \n",
    "    given file name\n",
    "    Inputs: \n",
    "        file_name: file name\n",
    "        state: the specified state\n",
    "    Return: dataframe for the business\n",
    "    '''\n",
    "    business = []\n",
    "\n",
    "    with open(file_name, encoding=\"utf8\") as fl:\n",
    "        for i, line in enumerate(fl):\n",
    "            business.append(json.loads(line))\n",
    "            if i + 1 >= 100000:\n",
    "                break\n",
    "\n",
    "    df_business = pd.DataFrame(business)\n",
    "    df_business = df_business[df_business[\"state\"] == state]\n",
    "    return df_business"
   ]
  },
  {
   "cell_type": "code",
   "execution_count": 3,
   "metadata": {},
   "outputs": [],
   "source": [
    "def get_review_data(df_business, start_year, file_name, subset_n=5*(10**5)):\n",
    "    '''\n",
    "    The function is used to derive the reviews from the given file, using the\n",
    "    businesses listed in the df_business. Start year and the total row size\n",
    "    of review dataframe should also be specified.\n",
    "    Inputs:\n",
    "        df_business: dataframe for businesses\n",
    "        start_year: starting year for rewiew data\n",
    "        file_name: file name for review data\n",
    "        subset_n: total row size searched in review dataframe\n",
    "    '''\n",
    "    reviews = []\n",
    "    begin_date =  datetime.datetime(start_year, 1, 1, 0, 0)\n",
    "    full_reviews = pd.DataFrame(columns=[\"business_id\", \"user_id\", \"stars\", \"date\"])\n",
    "\n",
    "    count = 0\n",
    "    with open(file_name, encoding=\"utf8\") as fl:\n",
    "        for i, line in enumerate(fl):\n",
    "            reviews.append(json.loads(line))\n",
    "            count += 1\n",
    "            if count + 1 >= 10000:\n",
    "                df_reviews = pd.DataFrame(reviews)\n",
    "                df_reviews['date'] = pd.to_datetime(df_reviews['date'])\n",
    "                df_reviews = df_reviews[(df_reviews['date'] - begin_date) > datetime.timedelta(days = 0)]\n",
    "                df_reviews = df_reviews[df_reviews[\"business_id\"].isin(df_business[\"business_id\"])]\n",
    "                full_reviews = pd.concat([full_reviews, df_reviews[[\"business_id\", \"user_id\", \"stars\", \"date\"]]], join=\"inner\")\n",
    "                df_reviews = \"\"\n",
    "                count = 0\n",
    "                gc.collect()\n",
    "                print(\"currently, full_reviews contain: \", full_reviews.shape[0], \" rows\")\n",
    "                if i + 1 > subset_n:\n",
    "                    break\n",
    "    \n",
    "    return full_reviews"
   ]
  },
  {
   "cell_type": "code",
   "execution_count": 4,
   "metadata": {},
   "outputs": [],
   "source": [
    "def get_final_matrix(full_reviews, review_threshold):\n",
    "    '''\n",
    "    The function is used to drop duplicated review and keep the latest one for a business-customer\n",
    "    pair. A dataframe with customers and their corresponding rating (to all restaurant) will be returned.\n",
    "    In order to control the sparsity of the matrix, only businesses who have review more than the review\n",
    "    threshold will be included.\n",
    "    Inputs: \n",
    "        full_review: review dataframe\n",
    "        review_threshold: the minimum review for a customer\n",
    "    Return: matrix for every business-customer pair\n",
    "    '''\n",
    "    final_matrix = full_reviews.sort_values(by=\"date\", ascending=False).drop_duplicates(\n",
    "                           subset=[\"business_id\",\"user_id\"], keep='first', inplace=False)\n",
    "    final_matrix = final_matrix[[\"business_id\",\"user_id\", \"stars\"]].pivot(\n",
    "                           index='business_id', columns='user_id', values='stars')\n",
    "    return final_matrix[final_matrix.count(axis = 1) > review_threshold]"
   ]
  },
  {
   "cell_type": "markdown",
   "metadata": {},
   "source": [
    "#### functions for imputation"
   ]
  },
  {
   "cell_type": "code",
   "execution_count": 5,
   "metadata": {},
   "outputs": [],
   "source": [
    "def initial_imputer(df, indicator_matrix=True):\n",
    "    '''\n",
    "    The function is used to impute the missing value in the customer-business\n",
    "    matrix and generate a complete dataframe. The missing value of each row will\n",
    "    be replaced by the random draw from the normal distribution (which is assumed)\n",
    "    of reviews for each business.\n",
    "    Inputs:\n",
    "        df: business-customer matrix\n",
    "    Return: complete matrix, matrix of missing indicator\n",
    "    '''\n",
    "    for idx in np.arange(0, df.shape[0], 1):\n",
    "        mu = df[idx, :][~np.isnan(df[idx, :])].mean()\n",
    "        sigma = df[idx, :][~np.isnan(df[idx, :])].std()\n",
    "        null_num = len(df[idx,:][np.isnan(df[idx, :])])\n",
    "        imputed_vals = np.random.normal(mu, sigma, null_num)\n",
    "        df[idx,:][np.isnan(df[idx, :])] = imputed_vals\n",
    "    \n",
    "    if indicator_matrix:\n",
    "        ind_matrix = np.isnan(df)\n",
    "        return df, ind_matrix\n",
    "    \n",
    "    return df"
   ]
  },
  {
   "cell_type": "markdown",
   "metadata": {},
   "source": [
    "#### functions for NMF & SVD"
   ]
  },
  {
   "cell_type": "code",
   "execution_count": 6,
   "metadata": {},
   "outputs": [],
   "source": [
    "def nmf(X, k, max_iter, epsilon, l_rate=1, use_l_rate=False):\n",
    "    '''\n",
    "    Non-negative matrix factorization with multiplicative updates\n",
    "    Inputs:\n",
    "        X: (numpy array)matrix\n",
    "        k: (int)dimension to keep\n",
    "        max_iter: (int) the maximum number of iteration\n",
    "        epsilon: the threshold to stop iteration\n",
    "        l_rate: learning rate specified\n",
    "        use_l_rate: if True, use the arbitrary learning rate\n",
    "    Outputs:\n",
    "        two decomposition matrix: W & H\n",
    "    '''\n",
    "    U, sigma, Vt = np.linalg.svd(X, full_matrices=False)\n",
    "    U[np.where(U <= 0)] = -U[np.where(U <= 0)]\n",
    "    Vt[np.where(Vt <= 0)] = -Vt[np.where(Vt <= 0)]\n",
    "        \n",
    "    \n",
    "    init_W = U[:, :k].dot(np.diag(sigma[:k]))\n",
    "    init_W[init_W <= 0] = 0\n",
    "    init_H = Vt[:k, :]\n",
    "    init_H[init_H <= 0] = 0\n",
    "    \n",
    "    W = init_W\n",
    "    H = init_H\n",
    "    W_gradient = - X.dot(H.T) + W.dot(H).dot(H.T)\n",
    "    H_gradient = - W.T.dot(X) + W.T.dot(W).dot(H)\n",
    "    H_r = np.divide(H, (W.T.dot(W).dot(H)))\n",
    "    W_r = np.divide(W, (W.dot((H.dot(H.T)))))\n",
    "\n",
    "    for i in np.arange(0, max_iter, 1):\n",
    "        \n",
    "        if use_l_rate:\n",
    "            W = W - l_rate * W_gradient\n",
    "        else:\n",
    "            W = W - np.multiply(W_r, W_gradient)\n",
    "            W_r = np.divide(W, (W.dot(H).dot(H.T)))\n",
    "\n",
    "        W_gradient = - X.dot(H.T) + W.dot(H).dot(H.T)\n",
    "        W[np.where(W <= 0)] = init_W[np.where(W <= 0)]\n",
    "        \n",
    "        if use_l_rate:\n",
    "            H = H - l_rate * H_gradient\n",
    "        else:\n",
    "            H = H - np.multiply(H_r, H_gradient)\n",
    "            H_r = np.divide(H, (W.T.dot(W).dot(H)))\n",
    "\n",
    "        H_gradient = - W.T.dot(X) + W.T.dot(W).dot(H)\n",
    "        H[np.where(H <= 0)] = init_H[np.where(H <= 0)]\n",
    "\n",
    "        if np.linalg.norm(X - W.dot(H)) < epsilon:\n",
    "            print(\"the stopping condition is reached, the estimated matrix is similar enough to the origin\")\n",
    "            print(\"the number of iteration is {}\".format(i))\n",
    "            break\n",
    "    \n",
    "    print(\"the max iteration is reached\")\n",
    "    return W, H"
   ]
  },
  {
   "cell_type": "code",
   "execution_count": 7,
   "metadata": {},
   "outputs": [],
   "source": [
    "def nmf_two_block(X, k, max_iter, epsilon, l_rate=1, use_l_rate=False):\n",
    "    '''\n",
    "    Non-negative matrix factorization with multiplicative updates\n",
    "    using two block gradient descent algorithm\n",
    "    Inputs:\n",
    "        X: (numpy array)matrix\n",
    "        k: (int)dimension to keep\n",
    "        max_iter: (int) the maximum number of iteration\n",
    "        epsilon: the threshold to stop iteration\n",
    "        l_rate: learning rate specified\n",
    "        use_l_rate: if True, use the arbitrary learning rate\n",
    "    Outputs:\n",
    "        two decomposition matrix: W & H\n",
    "    '''\n",
    "    U, sigma, Vt = np.linalg.svd(X, full_matrices=False)\n",
    "    U[np.where(U <= 0)] = -U[np.where(U <= 0)]\n",
    "    Vt[np.where(Vt <= 0)] = -Vt[np.where(Vt <= 0)]\n",
    "        \n",
    "    \n",
    "    init_W = U[:, :k].dot(np.diag(sigma[:k]))\n",
    "    init_W[init_W <= 0] = 0\n",
    "    init_H = Vt[:k, :]\n",
    "    init_H[init_H <= 0] = 0\n",
    "    \n",
    "    W = init_W\n",
    "    H = init_H\n",
    "    W_gradient = - X.dot(H.T) + W.dot(H).dot(H.T)\n",
    "    H_gradient = - W.T.dot(X) + W.T.dot(W).dot(H)\n",
    "    H_r = np.divide(H, (W.T.dot(W).dot(H)))\n",
    "    W_r = np.divide(W, (W.dot((H.dot(H.T)))))\n",
    "    \n",
    "    for i in np.arange(0,max_iter,1):\n",
    "        if i == 0:\n",
    "            first_norm = np.linalg.norm(W - (W - np.multiply(W_r, W_gradient)))\n",
    "            #print(first_norm)\n",
    "        current_norm = np.linalg.norm(W - (W - np.multiply(W_r, W_gradient)))\n",
    "        #print(current_norm)\n",
    "        \n",
    "        if use_l_rate:\n",
    "            W = W - l_rate * W_gradient\n",
    "        else:\n",
    "            W = W - np.multiply(W_r, W_gradient)\n",
    "            W_r = np.divide(W, (W.dot(H).dot(H.T)))\n",
    "\n",
    "        W_gradient = - X.dot(H.T) + W.dot(H).dot(H.T)\n",
    "        W[np.where(W <= 0)] = init_W[np.where(W <= 0)]\n",
    "        \n",
    "        if current_norm <= epsilon * first_norm:\n",
    "            print(\"the stopping condition is reached, the estimated matrix is similar enough to the origin\")\n",
    "            print(\"the number of iteration is {}\".format(i))\n",
    "            break\n",
    "                        \n",
    "    for j in range(max_iter):\n",
    "        if i == 0:\n",
    "            first_norm = np.linalg.norm(H - (H - np.multiply(H_r, H_gradient)))\n",
    "        current_norm = np.linalg.norm(H - (H - np.multiply(H_r, H_gradient)))\n",
    "        \n",
    "        if use_l_rate:\n",
    "            H = H - l_rate * H_gradient\n",
    "        else:\n",
    "            H = H - np.multiply(H_r, H_gradient)\n",
    "            H_r = np.divide(H, (W.T.dot(W).dot(H)))\n",
    "            \n",
    "        H_gradient = - W.T.dot(X) + W.T.dot(W).dot(H)\n",
    "        H[np.where(H <= 0)] = init_H[np.where(H <= 0)]\n",
    "\n",
    "        if current_norm <= epsilon * first_norm:\n",
    "            print(\"the stopping condition is reached, the estimated matrix is similar enough to the origin\")\n",
    "            print(\"the number of iteration is {}\".format(i))\n",
    "            break\n",
    "    \n",
    "    print(\"the max iteration is reached\")\n",
    "    return W, H"
   ]
  },
  {
   "cell_type": "code",
   "execution_count": 8,
   "metadata": {},
   "outputs": [],
   "source": [
    "def truncated_svd(X, k):\n",
    "    '''\n",
    "    Decompose matrix using truncated SVD\n",
    "    Inputs:\n",
    "        X: input matrix\n",
    "        k: dimension to keep\n",
    "    Outputs:\n",
    "        new matrix constructed by truncated svd\n",
    "    '''\n",
    "    U, S, Vt = np.linalg.svd(X, full_matrices=False)\n",
    "    U_k = U[:, :k]\n",
    "    Vt_k = Vt[:k, :]\n",
    "    S_k = S[:k]\n",
    "    S_mat = np.diag(S_k)\n",
    "    \n",
    "    return U_k.dot(S_mat).dot(Vt_k)"
   ]
  },
  {
   "cell_type": "markdown",
   "metadata": {},
   "source": [
    "### toy example"
   ]
  },
  {
   "cell_type": "code",
   "execution_count": 9,
   "metadata": {},
   "outputs": [],
   "source": [
    "toy_matrix = np.array([[0, 1, 0, 1, 2, 2],\n",
    "                      [2, 3, 1, 1, 2, 2],\n",
    "                      [1, 1, 1, 0, 1, 1],\n",
    "                      [0, 2, 3, 4, 1, 1],\n",
    "                      [0, 0, 0, 0, 1, 0]])"
   ]
  },
  {
   "cell_type": "code",
   "execution_count": 10,
   "metadata": {
    "scrolled": true
   },
   "outputs": [
    {
     "name": "stdout",
     "output_type": "stream",
     "text": [
      "the max iteration is reached\n"
     ]
    }
   ],
   "source": [
    "W, H = nmf(toy_matrix, 4, 10000, 10**(-6), l_rate=0.01, use_l_rate=True)"
   ]
  },
  {
   "cell_type": "code",
   "execution_count": 11,
   "metadata": {},
   "outputs": [
    {
     "data": {
      "text/plain": [
       "1.2232658184866345"
      ]
     },
     "execution_count": 11,
     "metadata": {},
     "output_type": "execute_result"
    }
   ],
   "source": [
    "np.linalg.norm(toy_matrix - W.dot(H))"
   ]
  },
  {
   "cell_type": "code",
   "execution_count": 12,
   "metadata": {},
   "outputs": [
    {
     "name": "stdout",
     "output_type": "stream",
     "text": [
      "the max iteration is reached\n"
     ]
    }
   ],
   "source": [
    "W, H = nmf(toy_matrix, 4, 10000, 10**(-6))"
   ]
  },
  {
   "cell_type": "code",
   "execution_count": 13,
   "metadata": {},
   "outputs": [
    {
     "data": {
      "text/plain": [
       "2.5104249369814102"
      ]
     },
     "execution_count": 13,
     "metadata": {},
     "output_type": "execute_result"
    }
   ],
   "source": [
    "np.linalg.norm(toy_matrix - W.dot(H))"
   ]
  },
  {
   "cell_type": "code",
   "execution_count": 14,
   "metadata": {},
   "outputs": [
    {
     "name": "stdout",
     "output_type": "stream",
     "text": [
      "the stopping condition is reached, the estimated matrix is similar enough to the origin\n",
      "the number of iteration is 677\n",
      "the stopping condition is reached, the estimated matrix is similar enough to the origin\n",
      "the number of iteration is 677\n",
      "the max iteration is reached\n"
     ]
    }
   ],
   "source": [
    "W, H = nmf_two_block(toy_matrix, 4, 10000, 10**(-6), l_rate=1)"
   ]
  },
  {
   "cell_type": "code",
   "execution_count": 15,
   "metadata": {},
   "outputs": [
    {
     "data": {
      "text/plain": [
       "1.762309427620005"
      ]
     },
     "execution_count": 15,
     "metadata": {},
     "output_type": "execute_result"
    }
   ],
   "source": [
    "np.linalg.norm(toy_matrix - W.dot(H))"
   ]
  },
  {
   "cell_type": "code",
   "execution_count": 16,
   "metadata": {},
   "outputs": [
    {
     "name": "stdout",
     "output_type": "stream",
     "text": [
      "the max iteration is reached\n"
     ]
    }
   ],
   "source": [
    "W, H = nmf_two_block(toy_matrix, 4, 10000, 10**(-6), l_rate=0.05, use_l_rate=True)"
   ]
  },
  {
   "cell_type": "code",
   "execution_count": 17,
   "metadata": {},
   "outputs": [
    {
     "data": {
      "text/plain": [
       "2.5445465497458035"
      ]
     },
     "execution_count": 17,
     "metadata": {},
     "output_type": "execute_result"
    }
   ],
   "source": [
    "np.linalg.norm(toy_matrix - W.dot(H))"
   ]
  },
  {
   "cell_type": "code",
   "execution_count": 18,
   "metadata": {},
   "outputs": [],
   "source": [
    "svd_approx_toy = truncated_svd(toy_matrix, 4)"
   ]
  },
  {
   "cell_type": "code",
   "execution_count": 19,
   "metadata": {},
   "outputs": [
    {
     "data": {
      "text/plain": [
       "0.5915117127553415"
      ]
     },
     "execution_count": 19,
     "metadata": {},
     "output_type": "execute_result"
    }
   ],
   "source": [
    "np.linalg.norm(toy_matrix - svd_approx_toy)"
   ]
  },
  {
   "cell_type": "markdown",
   "metadata": {},
   "source": [
    "### Yelp dataset"
   ]
  },
  {
   "cell_type": "markdown",
   "metadata": {},
   "source": [
    "#### loading data"
   ]
  },
  {
   "cell_type": "code",
   "execution_count": 20,
   "metadata": {},
   "outputs": [],
   "source": [
    "file_name = 'D:/Researching Data/yelp_academic_dataset_business.json'\n",
    "df_business = get_business_data(file_name)"
   ]
  },
  {
   "cell_type": "markdown",
   "metadata": {},
   "source": [
    "#### generating different dependent variable y"
   ]
  },
  {
   "cell_type": "code",
   "execution_count": 21,
   "metadata": {},
   "outputs": [],
   "source": [
    "cat_null_idx = df_business[\"categories\"].isnull()\n",
    "df_business.loc[cat_null_idx, \"categories\"] = \"no type\"\n",
    "\n",
    "def find_re(txt, pattern):\n",
    "    if re.findall(pattern, txt) != []:\n",
    "        return True\n",
    "    return False\n",
    "\n",
    "revec = np.vectorize(find_re, otypes=[bool])"
   ]
  },
  {
   "cell_type": "code",
   "execution_count": 22,
   "metadata": {
    "scrolled": true
   },
   "outputs": [
    {
     "name": "stdout",
     "output_type": "stream",
     "text": [
      "currently, full_reviews contain:  2170  rows\n",
      "currently, full_reviews contain:  6582  rows\n",
      "currently, full_reviews contain:  13200  rows\n",
      "currently, full_reviews contain:  22060  rows\n",
      "currently, full_reviews contain:  33081  rows\n",
      "currently, full_reviews contain:  46307  rows\n",
      "currently, full_reviews contain:  61749  rows\n",
      "currently, full_reviews contain:  79408  rows\n",
      "currently, full_reviews contain:  99262  rows\n",
      "currently, full_reviews contain:  121315  rows\n",
      "currently, full_reviews contain:  145487  rows\n",
      "currently, full_reviews contain:  171859  rows\n",
      "currently, full_reviews contain:  200391  rows\n",
      "currently, full_reviews contain:  231151  rows\n",
      "currently, full_reviews contain:  264121  rows\n",
      "currently, full_reviews contain:  299280  rows\n",
      "currently, full_reviews contain:  336604  rows\n",
      "currently, full_reviews contain:  376110  rows\n",
      "currently, full_reviews contain:  417757  rows\n",
      "currently, full_reviews contain:  461511  rows\n",
      "currently, full_reviews contain:  507317  rows\n",
      "currently, full_reviews contain:  555312  rows\n",
      "currently, full_reviews contain:  605432  rows\n",
      "currently, full_reviews contain:  657704  rows\n",
      "currently, full_reviews contain:  712089  rows\n",
      "currently, full_reviews contain:  768605  rows\n",
      "currently, full_reviews contain:  827201  rows\n",
      "currently, full_reviews contain:  887932  rows\n",
      "currently, full_reviews contain:  950786  rows\n",
      "currently, full_reviews contain:  1015803  rows\n",
      "currently, full_reviews contain:  1082919  rows\n",
      "currently, full_reviews contain:  1152165  rows\n",
      "currently, full_reviews contain:  1223572  rows\n",
      "currently, full_reviews contain:  1297152  rows\n",
      "currently, full_reviews contain:  1372870  rows\n",
      "currently, full_reviews contain:  1450743  rows\n",
      "currently, full_reviews contain:  1530711  rows\n",
      "currently, full_reviews contain:  1612774  rows\n",
      "currently, full_reviews contain:  1696937  rows\n",
      "currently, full_reviews contain:  1783187  rows\n",
      "currently, full_reviews contain:  1871437  rows\n",
      "currently, full_reviews contain:  1961686  rows\n",
      "currently, full_reviews contain:  2054045  rows\n",
      "currently, full_reviews contain:  2148475  rows\n",
      "currently, full_reviews contain:  2244927  rows\n",
      "currently, full_reviews contain:  2343463  rows\n",
      "currently, full_reviews contain:  2443966  rows\n",
      "currently, full_reviews contain:  2546479  rows\n",
      "currently, full_reviews contain:  2651048  rows\n",
      "currently, full_reviews contain:  2757602  rows\n",
      "currently, full_reviews contain:  2866211  rows\n"
     ]
    }
   ],
   "source": [
    "file_name = 'D:/Researching Data/yelp_academic_dataset_review.json'\n",
    "full_reviews = get_review_data(df_business, 2015, file_name)\n",
    "final_matrix = get_final_matrix(full_reviews, 20)"
   ]
  },
  {
   "cell_type": "code",
   "execution_count": 23,
   "metadata": {},
   "outputs": [],
   "source": [
    "italian_idx = df_business.loc[revec(np.array(df_business[\"categories\"]), \"Ital\")][\"business_id\"]\n",
    "mexican_idx = df_business.loc[revec(np.array(df_business[\"categories\"]), \"Mexi\")][\"business_id\"]\n",
    "chinese_idx = df_business.loc[revec(np.array(df_business[\"categories\"]), \"Chin\")][\"business_id\"]"
   ]
  },
  {
   "cell_type": "code",
   "execution_count": 24,
   "metadata": {},
   "outputs": [],
   "source": [
    "full_reviews[\"italian_ind\"] = 0\n",
    "full_reviews[\"mexican_ind\"] = 0\n",
    "full_reviews[\"chinese_ind\"] = 0\n",
    "full_reviews.loc[full_reviews[\"business_id\"].isin(italian_idx), \"italian_ind\"] = 1\n",
    "full_reviews.loc[full_reviews[\"business_id\"].isin(mexican_idx), \"mexican_ind\"] = 1\n",
    "full_reviews.loc[full_reviews[\"business_id\"].isin(chinese_idx), \"chinese_ind\"] = 1"
   ]
  },
  {
   "cell_type": "code",
   "execution_count": 25,
   "metadata": {},
   "outputs": [],
   "source": [
    "italian_y = full_reviews[full_reviews[\"italian_ind\"] == 1].groupby(\"user_id\").mean()[\"stars\"].to_frame()\n",
    "mexican_y = full_reviews[full_reviews[\"mexican_ind\"] == 1].groupby(\"user_id\").mean()[\"stars\"].to_frame()\n",
    "chinese_y = full_reviews[full_reviews[\"chinese_ind\"] == 1].groupby(\"user_id\").mean()[\"stars\"].to_frame()"
   ]
  },
  {
   "cell_type": "code",
   "execution_count": 26,
   "metadata": {
    "scrolled": true
   },
   "outputs": [],
   "source": [
    "final_matrix = full_reviews.sort_values(by=\"date\", ascending=False).drop_duplicates(\n",
    "                           subset=[\"business_id\",\"user_id\"], keep='first', inplace=False)\n",
    "final_matrix = final_matrix[[\"business_id\",\"user_id\", \"stars\"]].pivot(\n",
    "                           index='user_id', columns='business_id', values='stars')\n",
    "final_matrix = final_matrix[set(final_matrix.columns[1:])]"
   ]
  },
  {
   "cell_type": "code",
   "execution_count": 27,
   "metadata": {
    "scrolled": true
   },
   "outputs": [],
   "source": [
    "italian_y_final = pd.merge(final_matrix, italian_y, how=\"left\", left_on=\"user_id\", right_on=\"user_id\")[\"stars\"]\n",
    "mexican_y_final = pd.merge(final_matrix, mexican_y, how=\"left\", left_on=\"user_id\", right_on=\"user_id\")[\"stars\"]\n",
    "chinese_y_final = pd.merge(final_matrix, chinese_y, how=\"left\", left_on=\"user_id\", right_on=\"user_id\")[\"stars\"]"
   ]
  },
  {
   "cell_type": "code",
   "execution_count": 28,
   "metadata": {
    "scrolled": true
   },
   "outputs": [],
   "source": [
    "final_matrix = final_matrix.T[final_matrix.T.count(axis = 1) > 20].T"
   ]
  },
  {
   "cell_type": "markdown",
   "metadata": {},
   "source": [
    "#### imputation"
   ]
  },
  {
   "cell_type": "code",
   "execution_count": 29,
   "metadata": {},
   "outputs": [],
   "source": [
    "final_matrix = np.array(final_matrix)\n",
    "complete_initial, missing_indicator = initial_imputer(final_matrix.T)"
   ]
  },
  {
   "cell_type": "code",
   "execution_count": 30,
   "metadata": {},
   "outputs": [
    {
     "data": {
      "text/plain": [
       "(75641, 1100)"
      ]
     },
     "execution_count": 30,
     "metadata": {},
     "output_type": "execute_result"
    }
   ],
   "source": [
    "final_matrix.shape"
   ]
  },
  {
   "cell_type": "markdown",
   "metadata": {},
   "source": [
    "### Testing functions for sub-matrix for yelp data (only select first 20 columns)\n",
    "####  decomposition: NMF"
   ]
  },
  {
   "cell_type": "code",
   "execution_count": 31,
   "metadata": {},
   "outputs": [],
   "source": [
    "sub_matrix = final_matrix.T[:, :20]"
   ]
  },
  {
   "cell_type": "code",
   "execution_count": 32,
   "metadata": {},
   "outputs": [
    {
     "name": "stdout",
     "output_type": "stream",
     "text": [
      "the max iteration is reached\n"
     ]
    }
   ],
   "source": [
    "W, H = nmf(sub_matrix, 10, 100000, 10**(-6))"
   ]
  },
  {
   "cell_type": "code",
   "execution_count": 33,
   "metadata": {
    "scrolled": true
   },
   "outputs": [
    {
     "data": {
      "text/plain": [
       "147.94594959246714"
      ]
     },
     "execution_count": 33,
     "metadata": {},
     "output_type": "execute_result"
    }
   ],
   "source": [
    "np.linalg.norm(sub_matrix - W.dot(H))"
   ]
  },
  {
   "cell_type": "code",
   "execution_count": 34,
   "metadata": {},
   "outputs": [
    {
     "name": "stdout",
     "output_type": "stream",
     "text": [
      "the stopping condition is reached, the estimated matrix is similar enough to the origin\n",
      "the number of iteration is 5418\n",
      "the stopping condition is reached, the estimated matrix is similar enough to the origin\n",
      "the number of iteration is 5418\n",
      "the max iteration is reached\n"
     ]
    }
   ],
   "source": [
    "W, H = nmf_two_block(sub_matrix, 10, 10000000, 10**(-6))"
   ]
  },
  {
   "cell_type": "code",
   "execution_count": 35,
   "metadata": {},
   "outputs": [
    {
     "data": {
      "text/plain": [
       "161.3042276876039"
      ]
     },
     "execution_count": 35,
     "metadata": {},
     "output_type": "execute_result"
    }
   ],
   "source": [
    "np.linalg.norm(sub_matrix - W.dot(H))"
   ]
  },
  {
   "cell_type": "markdown",
   "metadata": {},
   "source": [
    "#### decomposition: SVD"
   ]
  },
  {
   "cell_type": "code",
   "execution_count": 36,
   "metadata": {},
   "outputs": [
    {
     "data": {
      "text/plain": [
       "134.97283211850313"
      ]
     },
     "execution_count": 36,
     "metadata": {},
     "output_type": "execute_result"
    }
   ],
   "source": [
    "svd_approx = truncated_svd(sub_matrix, 10)\n",
    "np.linalg.norm(sub_matrix - svd_approx)"
   ]
  },
  {
   "cell_type": "markdown",
   "metadata": {},
   "source": [
    "### Main flow functions"
   ]
  },
  {
   "cell_type": "code",
   "execution_count": 37,
   "metadata": {},
   "outputs": [],
   "source": [
    "def get_W(X):\n",
    "    '''\n",
    "    The function is used to calculate matrix W and H from\n",
    "    the input matrix using Non-negative Factorization.\n",
    "    Inputs: complete matrix\n",
    "    Return: W, H matrix\n",
    "    '''\n",
    "    print(\"nmf (two block)...\")\n",
    "    W, H = nmf_two_block(X, 10, 100000, 10**(-6))\n",
    "    \n",
    "    return W, H"
   ]
  },
  {
   "cell_type": "code",
   "execution_count": 38,
   "metadata": {},
   "outputs": [],
   "source": [
    "def combination_indexer(var_len, index_list):\n",
    "    '''\n",
    "    This function is used to provide binary index for the list of variables\n",
    "    which will be used in get_var_combinations function\n",
    "    Inputs:\n",
    "        var_len: the length of the variable list\n",
    "        index_list: list of the indices\n",
    "    Returns: a list with all possible binary combinations (list of list)\n",
    "    '''\n",
    "    if len(index_list) == var_len:\n",
    "        return [index_list]\n",
    "    \n",
    "    else:\n",
    "        total_list = []\n",
    "        for i in range(2):\n",
    "            new_list = index_list + [i]\n",
    "            total_list += combination_indexer(var_len, new_list)\n",
    "    \n",
    "    return total_list\n",
    "\n",
    "\n",
    "def get_var_combinations(var_list):\n",
    "    '''\n",
    "    This function is used to provide all possible combinations of variables\n",
    "    which will be used in the input of machine learning methods\n",
    "    Inputs:\n",
    "        var_list: a list of variables\n",
    "    Returns: list of all possible combinations of variables in the given\n",
    "             variable list (list of list)\n",
    "    '''\n",
    "    index_combination = combination_indexer(len(var_list), [])\n",
    "    var_combinations = []\n",
    "    \n",
    "    for combination in index_combination:\n",
    "        var_sublist = []\n",
    "        for i, val in enumerate(combination):\n",
    "            if val == 1:\n",
    "                var_sublist.append(var_list[i])\n",
    "\n",
    "        var_combinations.append(var_sublist)\n",
    "    \n",
    "    return var_combinations"
   ]
  },
  {
   "cell_type": "code",
   "execution_count": 39,
   "metadata": {},
   "outputs": [],
   "source": [
    "def get_limited_permuted_indices(permuted_index_list, k):\n",
    "    '''\n",
    "    The function is used to provided the limit length of\n",
    "    the index permutation\n",
    "    Inputs: \n",
    "        permuted_index_list: permuted index list\n",
    "        k: length of column indices selected\n",
    "    Return: limited index list\n",
    "    '''\n",
    "    permuted_index_list_limited = []\n",
    "    for i in get_var_combinations(np.arange(0,10,1))[1:]:\n",
    "        if len(i) <= k:\n",
    "            permuted_index_list_limited.append(i)\n",
    "    return permuted_index_list_limited"
   ]
  },
  {
   "cell_type": "code",
   "execution_count": 40,
   "metadata": {},
   "outputs": [],
   "source": [
    "def least_square_regularized(X, y, k, lamb, reg=True, full=False):\n",
    "    '''\n",
    "    This function is used to calculate the weight with different setting\n",
    "    Inputs:\n",
    "        X: dataframe\n",
    "        y: label\n",
    "        k: k dimension in SVD setting\n",
    "        lamb: regularization parameters for ridge regression\n",
    "        reg: (boolean) using ridge regresison or not\n",
    "        full: use the full matrix after SVD or not\n",
    "    Return: weights vector\n",
    "    '''\n",
    "    if full:\n",
    "        U_k, sigma_k, Vt_k = np.linalg.svd(X, full_matrices=False)\n",
    "    \n",
    "    else:\n",
    "        U_k, sigma_k, Vt_k = dimensional_reduction(X, k, y, allm=True, \n",
    "                                                   get_weight=False)\n",
    "    \n",
    "    if reg:\n",
    "        inv_ele = np.linalg.inv((np.diag(sigma_k).T).dot(\n",
    "                                np.diag(sigma_k)) + \n",
    "                                lamb * np.diag(np.repeat(1, np.diag(sigma_k).shape[0])))\n",
    "\n",
    "        rweight = np.array(((Vt_k.T.dot(inv_ele)).dot(\n",
    "                             np.diag(sigma_k).T)).dot(U_k.T)).dot(y)\n",
    "    \n",
    "    else:\n",
    "        pinv = ((np.diag(sigma_k)).T).dot(\n",
    "                 np.linalg.inv(np.diag(sigma_k).dot((np.diag(sigma_k)).T)))\n",
    "        return Vt_k.T.dot(pinv).dot(U_k.T).dot(y)\n",
    "        \n",
    "    return rweight"
   ]
  },
  {
   "cell_type": "markdown",
   "metadata": {},
   "source": [
    "### Computation for W, H for the full matrix"
   ]
  },
  {
   "cell_type": "code",
   "execution_count": 111,
   "metadata": {},
   "outputs": [
    {
     "name": "stdout",
     "output_type": "stream",
     "text": [
      "nmf (two block)...\n",
      "the stopping condition is reached, the estimated matrix is similar enough to the origin\n",
      "the number of iteration is 2966\n",
      "the stopping condition is reached, the estimated matrix is similar enough to the origin\n",
      "the number of iteration is 2966\n",
      "the max iteration is reached\n"
     ]
    }
   ],
   "source": [
    "W, H = get_W(final_matrix)"
   ]
  },
  {
   "cell_type": "code",
   "execution_count": 41,
   "metadata": {},
   "outputs": [],
   "source": [
    "def best_representative_model(W, H, y, permuted_index_list, full_indices):\n",
    "    '''\n",
    "    The function is used to compare different predicted model (Ridge Regression)\n",
    "    with different column indices. We only select the row indices \n",
    "    with non-null y.\n",
    "    Inputs:\n",
    "        W: W matrix\n",
    "        H: H matrix\n",
    "        y: y vector with complete values\n",
    "        permuted_index_list: list of indices combination for slicing\n",
    "        full_indices: row indices with complete value in y\n",
    "    Return: tuples of best indices, average squared error and weights\n",
    "    '''\n",
    "    #W, H = get_W(X)\n",
    "    best_error = np.inf\n",
    "    \n",
    "    for idx in permuted_index_list:\n",
    "        #print(\"computing permutation...\" + str(idx))\n",
    "\n",
    "        Wn = W[full_indices][:, idx]\n",
    "        z = least_square_regularized(Wn, y, 10, 0.01, reg=True, full=True)\n",
    "        y_hat = Wn.dot(z)\n",
    "        \n",
    "        error = sum((y - y_hat) ** 2) / len(y)\n",
    "        if error < best_error:\n",
    "            best_error = error\n",
    "            best_indices = idx\n",
    "            best_weights = z\n",
    "\n",
    "    return (best_indices, best_error, best_weights)"
   ]
  },
  {
   "cell_type": "markdown",
   "metadata": {},
   "source": [
    "### Save and load the matrix W, H and all different y"
   ]
  },
  {
   "cell_type": "code",
   "execution_count": 42,
   "metadata": {},
   "outputs": [],
   "source": [
    "italian_y_final = np.array([italian_y_final]).T\n",
    "mexican_y_final = np.array([mexican_y_final]).T\n",
    "chinese_y_final = np.array([chinese_y_final]).T"
   ]
  },
  {
   "cell_type": "code",
   "execution_count": 37,
   "metadata": {},
   "outputs": [],
   "source": [
    "np.save('D:/Researching Data/italian_y.npy', italian_y_final)\n",
    "np.save('D:/Researching Data/mexican_y.npy', mexican_y_final)\n",
    "np.save('D:/Researching Data/chinese_y.npy', chinese_y_final)"
   ]
  },
  {
   "cell_type": "code",
   "execution_count": 129,
   "metadata": {},
   "outputs": [],
   "source": [
    "np.save('D:/Researching Data/W.npy', W)\n",
    "np.save('D:/Researching Data/H.npy', H)"
   ]
  },
  {
   "cell_type": "code",
   "execution_count": 43,
   "metadata": {},
   "outputs": [],
   "source": [
    "W = np.load('D:/Researching Data/W.npy')\n",
    "H = np.load('D:/Researching Data/H.npy')"
   ]
  },
  {
   "cell_type": "markdown",
   "metadata": {},
   "source": [
    "### Pilot test for the best representative model"
   ]
  },
  {
   "cell_type": "code",
   "execution_count": 44,
   "metadata": {},
   "outputs": [],
   "source": [
    "permuted_index_list = get_var_combinations(np.arange(0,10,1))[1:]"
   ]
  },
  {
   "cell_type": "code",
   "execution_count": 45,
   "metadata": {},
   "outputs": [
    {
     "name": "stdout",
     "output_type": "stream",
     "text": [
      "5103\n",
      "8193\n",
      "3421\n"
     ]
    }
   ],
   "source": [
    "permuted_index_list_limited = get_limited_permuted_indices(permuted_index_list, 3)\n",
    "y_performances = {}\n",
    "idx = 0\n",
    "models_list = [\"Italian\", \"Mexican\", \"Chinese\"]\n",
    "for y in [italian_y_final, mexican_y_final, chinese_y_final]:\n",
    "    full_indices = list(np.where(~np.isnan(y))[0])\n",
    "    print(len(full_indices))\n",
    "    perf_tuple = best_representative_model(W, H, y[full_indices, :], permuted_index_list_limited, full_indices)\n",
    "    y_performances[models_list[idx]] = perf_tuple\n",
    "    idx += 1"
   ]
  },
  {
   "cell_type": "code",
   "execution_count": 46,
   "metadata": {},
   "outputs": [
    {
     "data": {
      "text/plain": [
       "([0, 4, 8], array([2.01884852]), array([[ 0.03060534],\n",
       "        [ 0.05193807],\n",
       "        [-0.04215204]]))"
      ]
     },
     "execution_count": 46,
     "metadata": {},
     "output_type": "execute_result"
    }
   ],
   "source": [
    "y_performances[\"Chinese\"]"
   ]
  },
  {
   "cell_type": "code",
   "execution_count": 47,
   "metadata": {},
   "outputs": [
    {
     "data": {
      "text/plain": [
       "([0, 7, 8], array([2.09133036]), array([[0.02990806],\n",
       "        [0.05753943],\n",
       "        [0.04089925]]))"
      ]
     },
     "execution_count": 47,
     "metadata": {},
     "output_type": "execute_result"
    }
   ],
   "source": [
    "y_performances[\"Mexican\"]"
   ]
  },
  {
   "cell_type": "code",
   "execution_count": 48,
   "metadata": {},
   "outputs": [
    {
     "data": {
      "text/plain": [
       "([0, 5, 7], array([1.84197143]), array([[ 0.03217587],\n",
       "        [-0.04157382],\n",
       "        [-0.04197146]]))"
      ]
     },
     "execution_count": 48,
     "metadata": {},
     "output_type": "execute_result"
    }
   ],
   "source": [
    "y_performances[\"Italian\"]"
   ]
  },
  {
   "cell_type": "markdown",
   "metadata": {},
   "source": [
    "### Automatic Implementation for the full model"
   ]
  },
  {
   "cell_type": "code",
   "execution_count": 49,
   "metadata": {},
   "outputs": [],
   "source": [
    "def model_k_selection(k_list, y_list, y_names, permuted_index_list):\n",
    "    '''\n",
    "    The function is used to implement the complete operation of different\n",
    "    column index length k with rating of different business type.\n",
    "    Inputs:\n",
    "        k_list: list of k values\n",
    "        y_list: average rating for Italian, Mexican and Chinese business\n",
    "        y_names: Name for the final dictionary\n",
    "        permuted_index_list: list of column indices for slicing\n",
    "    Return: performance dictionary\n",
    "    '''\n",
    "    y_performances = {}\n",
    "    idx = 0\n",
    "    models_list = y_names\n",
    "    for y in y_list:\n",
    "        full_indices = list(np.where(~np.isnan(y))[0])\n",
    "        k_dict = {}\n",
    "        for k in k_list:\n",
    "            permuted_index_list_limited = get_limited_permuted_indices(permuted_index_list, k)\n",
    "            perf_tuple = best_representative_model(W, H, y[full_indices, :], permuted_index_list_limited, full_indices)\n",
    "            k_dict[k] = perf_tuple\n",
    "        y_performances[models_list[idx]] = k_dict\n",
    "        idx += 1\n",
    "    \n",
    "    return y_performances"
   ]
  },
  {
   "cell_type": "code",
   "execution_count": 50,
   "metadata": {},
   "outputs": [],
   "source": [
    "y_list = [italian_y_final, mexican_y_final, chinese_y_final]\n",
    "y_names = [\"Italian\", \"Mexican\", \"Chinese\"]"
   ]
  },
  {
   "cell_type": "code",
   "execution_count": 51,
   "metadata": {},
   "outputs": [],
   "source": [
    "y_performances = model_k_selection(np.arange(1,10,1), y_list, y_names, permuted_index_list)"
   ]
  },
  {
   "cell_type": "code",
   "execution_count": 52,
   "metadata": {},
   "outputs": [
    {
     "data": {
      "text/plain": [
       "{'Chinese': {1: ([0], array([2.02053141]), array([[0.03057262]])),\n",
       "  2: ([0, 8], array([2.01956808]), array([[ 0.03066464],\n",
       "          [-0.0436361 ]])),\n",
       "  3: ([0, 4, 8], array([2.01884852]), array([[ 0.03060534],\n",
       "          [ 0.05193807],\n",
       "          [-0.04215204]])),\n",
       "  4: ([0, 4, 6, 8], array([2.01838533]), array([[ 0.03052504],\n",
       "          [ 0.05250207],\n",
       "          [ 0.02646456],\n",
       "          [-0.04124006]])),\n",
       "  5: ([0, 2, 4, 6, 8], array([2.01793117]), array([[ 0.03044498],\n",
       "          [ 0.02624856],\n",
       "          [ 0.05341784],\n",
       "          [ 0.0268181 ],\n",
       "          [-0.0397687 ]])),\n",
       "  6: ([0, 2, 3, 4, 6, 8], array([2.01767971]), array([[ 0.03049659],\n",
       "          [ 0.02536318],\n",
       "          [-0.02319125],\n",
       "          [ 0.05229967],\n",
       "          [ 0.0265142 ],\n",
       "          [-0.04071921]])),\n",
       "  7: ([0, 1, 2, 3, 4, 6, 8], array([2.01750688]), array([[ 0.03055993],\n",
       "          [-0.01266669],\n",
       "          [ 0.02515354],\n",
       "          [-0.0239195 ],\n",
       "          [ 0.0517904 ],\n",
       "          [ 0.02641951],\n",
       "          [-0.04086523]])),\n",
       "  8: ([0, 1, 2, 3, 4, 6, 8, 9], array([2.01733831]), array([[ 0.03061685],\n",
       "          [-0.01294213],\n",
       "          [ 0.02440799],\n",
       "          [-0.02459382],\n",
       "          [ 0.0503161 ],\n",
       "          [ 0.02550543],\n",
       "          [-0.04229419],\n",
       "          [-0.01632117]])),\n",
       "  9: ([0, 1, 2, 3, 4, 6, 7, 8, 9], array([2.01732104]), array([[ 0.03060071],\n",
       "          [-0.01280981],\n",
       "          [ 0.02465803],\n",
       "          [-0.02422406],\n",
       "          [ 0.05055418],\n",
       "          [ 0.02570662],\n",
       "          [ 0.00585682],\n",
       "          [-0.04219203],\n",
       "          [-0.01607163]]))},\n",
       " 'Italian': {1: ([0], array([1.84356781]), array([[0.03201234]])),\n",
       "  2: ([0, 6], array([1.84276974]), array([[0.03191471],\n",
       "          [0.03634035]])),\n",
       "  3: ([0, 5, 7], array([1.84197143]), array([[ 0.03217587],\n",
       "          [-0.04157382],\n",
       "          [-0.04197146]])),\n",
       "  4: ([0, 5, 6, 7], array([1.84129608]), array([[ 0.03207976],\n",
       "          [-0.04001032],\n",
       "          [ 0.03348574],\n",
       "          [-0.04039374]])),\n",
       "  5: ([0, 1, 5, 6, 7], array([1.8408178]), array([[ 0.03197153],\n",
       "          [ 0.0208625 ],\n",
       "          [-0.03939402],\n",
       "          [ 0.03451922],\n",
       "          [-0.03942198]])),\n",
       "  6: ([0, 1, 4, 5, 6, 7], array([1.84055838]), array([[ 0.0320087 ],\n",
       "          [ 0.02075883],\n",
       "          [-0.03286972],\n",
       "          [-0.03974517],\n",
       "          [ 0.03403895],\n",
       "          [-0.03941581]])),\n",
       "  7: ([0, 1, 4, 5, 6, 7, 9], array([1.84038747]), array([[ 0.03206186],\n",
       "          [ 0.02028589],\n",
       "          [-0.03417697],\n",
       "          [-0.04026696],\n",
       "          [ 0.03339845],\n",
       "          [-0.04032823],\n",
       "          [-0.01735582]])),\n",
       "  8: ([0, 1, 2, 4, 5, 6, 7, 9], array([1.84033174]), array([[ 0.03209428],\n",
       "          [ 0.02017424],\n",
       "          [-0.00905037],\n",
       "          [-0.03403649],\n",
       "          [-0.04099346],\n",
       "          [ 0.03294604],\n",
       "          [-0.04084032],\n",
       "          [-0.01778661]])),\n",
       "  9: ([0, 1, 2, 4, 5, 6, 7, 8, 9], array([1.84028301]), array([[ 0.03212317],\n",
       "          [ 0.02001136],\n",
       "          [-0.00957879],\n",
       "          [-0.03432617],\n",
       "          [-0.04159728],\n",
       "          [ 0.03248767],\n",
       "          [-0.04120385],\n",
       "          [-0.00992332],\n",
       "          [-0.01846302]]))},\n",
       " 'Mexican': {1: ([0], array([2.09365481]), array([[0.0301047]])),\n",
       "  2: ([0, 7], array([2.09219757]), array([[0.02999875],\n",
       "          [0.05639457]])),\n",
       "  3: ([0, 7, 8], array([2.09133036]), array([[0.02990806],\n",
       "          [0.05753943],\n",
       "          [0.04089925]])),\n",
       "  4: ([0, 4, 7, 8], array([2.09088983]), array([[ 0.02995744],\n",
       "          [-0.03859883],\n",
       "          [ 0.05715237],\n",
       "          [ 0.04000373]])),\n",
       "  5: ([0, 4, 6, 7, 8], array([2.090691]), array([[ 0.02990245],\n",
       "          [-0.03729908],\n",
       "          [ 0.01696799],\n",
       "          [ 0.05784595],\n",
       "          [ 0.04103722]])),\n",
       "  6: ([0, 3, 4, 6, 7, 8], array([2.09062946]), array([[ 0.02987771],\n",
       "          [ 0.01114895],\n",
       "          [-0.03694311],\n",
       "          [ 0.01716571],\n",
       "          [ 0.05837917],\n",
       "          [ 0.04123166]])),\n",
       "  7: ([0, 1, 3, 4, 6, 7, 8], array([2.09059023]), array([[ 0.02984536],\n",
       "          [ 0.00596012],\n",
       "          [ 0.01161025],\n",
       "          [-0.03673775],\n",
       "          [ 0.0174106 ],\n",
       "          [ 0.05880205],\n",
       "          [ 0.04141665]])),\n",
       "  8: ([0, 1, 2, 3, 4, 6, 7, 8], array([2.09055919]), array([[ 0.0298211 ],\n",
       "          [ 0.00607619],\n",
       "          [ 0.00682474],\n",
       "          [ 0.01201682],\n",
       "          [-0.03655592],\n",
       "          [ 0.01760361],\n",
       "          [ 0.05929687],\n",
       "          [ 0.04185213]])),\n",
       "  9: ([0, 1, 2, 3, 4, 6, 7, 8, 9], array([2.0905471]), array([[ 0.02980582],\n",
       "          [ 0.00615333],\n",
       "          [ 0.00700568],\n",
       "          [ 0.01226682],\n",
       "          [-0.03617683],\n",
       "          [ 0.01776495],\n",
       "          [ 0.05951963],\n",
       "          [ 0.04213322],\n",
       "          [ 0.00449628]]))}}"
      ]
     },
     "execution_count": 52,
     "metadata": {},
     "output_type": "execute_result"
    }
   ],
   "source": [
    "y_performances"
   ]
  },
  {
   "cell_type": "code",
   "execution_count": 53,
   "metadata": {},
   "outputs": [],
   "source": [
    "def plot_k_model_selection(k_list, y_list, y_names, permuted_index_list):\n",
    "    '''\n",
    "    The function is used to plot the result of model_k_selection function\n",
    "    '''\n",
    "    y_performances = model_k_selection(k_list, y_list, y_names, permuted_index_list)\n",
    "    \n",
    "    error_array_list = []\n",
    "    for i in np.arange(0, len(y_list), 1):\n",
    "        error_list = []\n",
    "        for idx, k in enumerate(k_list):\n",
    "            error_list.append(y_performances[y_names[i]][k][1][0])\n",
    "        \n",
    "        error_array_list.append(error_list)\n",
    "        \n",
    "    for error_list in error_array_list:\n",
    "        plt.plot(np.arange(0, len(error_list), 1), error_list)\n",
    "    \n",
    "    return error_array_list"
   ]
  },
  {
   "cell_type": "code",
   "execution_count": 54,
   "metadata": {},
   "outputs": [
    {
     "data": {
      "image/png": "[encoded data removed]",
      "text/plain": [
       "<Figure size 432x288 with 1 Axes>"
      ]
     },
     "metadata": {},
     "output_type": "display_data"
    }
   ],
   "source": [
    "error_array_list = plot_k_model_selection(np.arange(1,10,1), y_list, y_names, permuted_index_list)"
   ]
  },
  {
   "cell_type": "code",
   "execution_count": 55,
   "metadata": {},
   "outputs": [
    {
     "data": {
      "image/png": "[encoded data removed]",
      "text/plain": [
       "<Figure size 432x288 with 3 Axes>"
      ]
     },
     "metadata": {},
     "output_type": "display_data"
    }
   ],
   "source": [
    "from matplotlib.ticker import NullFormatter\n",
    "x = np.arange(0, len(np.arange(1,10,1)), 1)\n",
    "y = error_array_list\n",
    "\n",
    "# plot with various axes scales\n",
    "plt.figure()\n",
    "\n",
    "# linear\n",
    "plt.subplot(221)\n",
    "plt.plot(x, y[0])\n",
    "plt.title('Italian')\n",
    "plt.xlabel('number of features')\n",
    "plt.ylabel('average squared error')\n",
    "plt.grid(True)\n",
    "\n",
    "# log\n",
    "plt.subplot(222)\n",
    "plt.plot(x, y[1])\n",
    "plt.title('Mexican')\n",
    "plt.xlabel('number of features')\n",
    "plt.ylabel('average squared error')\n",
    "plt.grid(True)\n",
    "\n",
    "# logit\n",
    "plt.subplot(223)\n",
    "plt.plot(x, y[2])\n",
    "plt.title('Chinese')\n",
    "plt.xlabel('number of features')\n",
    "plt.ylabel('average squared error')\n",
    "plt.grid(True)\n",
    "\n",
    "plt.gca().yaxis.set_minor_formatter(NullFormatter())\n",
    "plt.subplots_adjust(top=0.92, bottom=0.08, left=0.10, right=0.95, hspace=0.6,\n",
    "                    wspace=0.35)\n",
    "\n",
    "plt.show()"
   ]
  },
  {
   "cell_type": "code",
   "execution_count": null,
   "metadata": {},
   "outputs": [],
   "source": []
  }
 ],
 "metadata": {
  "kernelspec": {
   "display_name": "Python [conda env:py3.5]",
   "language": "python",
   "name": "conda-env-py3.5-py"
  },
  "language_info": {
   "codemirror_mode": {
    "name": "ipython",
    "version": 3
   },
   "file_extension": ".py",
   "mimetype": "text/x-python",
   "name": "python",
   "nbconvert_exporter": "python",
   "pygments_lexer": "ipython3",
   "version": "3.5.6"
  }
 },
 "nbformat": 4,
 "nbformat_minor": 2
}
